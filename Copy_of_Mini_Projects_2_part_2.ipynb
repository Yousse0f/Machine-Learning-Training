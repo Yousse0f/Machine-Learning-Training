{
  "nbformat": 4,
  "nbformat_minor": 0,
  "metadata": {
    "colab": {
      "name": "Copy of Mini_Projects_2/ part 2.ipynb",
      "provenance": [],
      "include_colab_link": true
    },
    "kernelspec": {
      "name": "python3",
      "display_name": "Python 3"
    }
  },
  "cells": [
    {
      "cell_type": "markdown",
      "metadata": {
        "id": "view-in-github",
        "colab_type": "text"
      },
      "source": [
        "<a href=\"https://colab.research.google.com/github/Yousse0f/Machine-Learning-Training/blob/main/Copy_of_Mini_Projects_2_part_2.ipynb\" target=\"_parent\"><img src=\"https://colab.research.google.com/assets/colab-badge.svg\" alt=\"Open In Colab\"/></a>"
      ]
    },
    {
      "cell_type": "markdown",
      "metadata": {
        "id": "c2sSEq3uSurn"
      },
      "source": [
        "# Files and Exceptions"
      ]
    },
    {
      "cell_type": "code",
      "metadata": {
        "id": "VppOUgyU_Auv"
      },
      "source": [
        "from google.colab import drive\n",
        "drive.mount('/content/drive')"
      ],
      "execution_count": null,
      "outputs": []
    },
    {
      "cell_type": "markdown",
      "metadata": {
        "id": "qw2XyRs-TWIF"
      },
      "source": [
        "**8. Sum of Numbers** <br>\n",
        "Assume that a file containing a series of integers is named numbers.txt and exists on the Drive. Write a program that reads all of the numbers stored in the file and calculates their total.\n",
        "\n",
        "Find file here: <br>\n",
        "https://drive.google.com/file/d/1GaOURA7jp0NLvfaOfl4cCClKK_pv3q0r/view?usp=sharing"
      ]
    },
    {
      "cell_type": "code",
      "metadata": {
        "id": "92EStR9KSu8N",
        "colab": {
          "base_uri": "https://localhost:8080/"
        },
        "outputId": "7af93653-8d72-46f1-a808-71528b8238ec"
      },
      "source": [
        "with open(\"numbers.txt\") as file:\n",
        "    print(sum(list(map(int, file.readlines()))))"
      ],
      "execution_count": 6,
      "outputs": [
        {
          "output_type": "stream",
          "text": [
            "7872\n"
          ],
          "name": "stdout"
        }
      ]
    },
    {
      "cell_type": "code",
      "metadata": {
        "id": "B7GImG_lSu-u"
      },
      "source": [
        ""
      ],
      "execution_count": null,
      "outputs": []
    },
    {
      "cell_type": "markdown",
      "metadata": {
        "id": "gW0mWcdDVgK4"
      },
      "source": [
        "**9. Average of Numbers** <br>\n",
        "Assume that a file containing a series of integers is named numbers.txt and exists on the Drive. Write a program that calculates the average of all the numbers stored in\n",
        "the file"
      ]
    },
    {
      "cell_type": "code",
      "metadata": {
        "id": "3-DZx-vnSvCe",
        "colab": {
          "base_uri": "https://localhost:8080/"
        },
        "outputId": "9303fa35-04a8-46e8-b601-c1dcb7c014c6"
      },
      "source": [
        "with open(\"numbers.txt\") as file:\n",
        "    nums = list(map(int, file.readlines()))\n",
        "    print(sum(nums)/len(nums))"
      ],
      "execution_count": 7,
      "outputs": [
        {
          "output_type": "stream",
          "text": [
            "291.55555555555554\n"
          ],
          "name": "stdout"
        }
      ]
    },
    {
      "cell_type": "markdown",
      "metadata": {
        "id": "vjchCYETVwPx"
      },
      "source": [
        "**10. Random Number File Writer**<br>\n",
        "Write a program that writes a series of random numbers to a file. Each random number should be in the range of 1 \n",
        "through 500. The application should let the user specify how\n",
        "many random numbers the file will hold.\n"
      ]
    },
    {
      "cell_type": "code",
      "metadata": {
        "id": "DCyba_BZVxLF",
        "colab": {
          "base_uri": "https://localhost:8080/"
        },
        "outputId": "ec481581-8893-4919-9545-84d42140733c"
      },
      "source": [
        "from random import randint\n",
        "num_of_lines = int(input(\"how many random numbers the file will hold? \"))\n",
        "lines = [randint(1, 500) for i in range(num_of_lines)]\n",
        "lines = list(map(str, lines))\n",
        "lines = [i+\"\\n\" for i in lines]\n",
        "with open(\"numbers.txt\", \"w\") as file:\n",
        "    file.writelines(lines)\n",
        "    "
      ],
      "execution_count": 4,
      "outputs": [
        {
          "output_type": "stream",
          "text": [
            "how many random numbers the file will hold? 27\n"
          ],
          "name": "stdout"
        }
      ]
    },
    {
      "cell_type": "code",
      "metadata": {
        "id": "uZ7CQJM0VxN5"
      },
      "source": [
        ""
      ],
      "execution_count": null,
      "outputs": []
    },
    {
      "cell_type": "markdown",
      "metadata": {
        "id": "p75ZKqbXWMdY"
      },
      "source": [
        "**11.  Exception Handing** <br>\n",
        "Modify the program that you wrote for Exercise 9 so it handles the following exceptions: <br>\n",
        "* It should handle any IOError exceptions that are raised when the file is opened and data\n",
        "is read from it. <br>\n",
        "* It should handle any ValueError exceptions that are raised when the items that are read from the file are converted to a number."
      ]
    },
    {
      "cell_type": "code",
      "metadata": {
        "id": "22SOHQbrVxRE",
        "colab": {
          "base_uri": "https://localhost:8080/"
        },
        "outputId": "98bc907b-add6-477f-c66f-67081447a775"
      },
      "source": [
        "try:\n",
        "    with open(\"numbers.txt\") as file:\n",
        "        nums = list(map(int, file.readlines()))\n",
        "        print(sum(nums) / len(nums))\n",
        "except FileNotFoundError:\n",
        "    print(\"File Not Found\")\n",
        "except ZeroDivisionError:\n",
        "    print(\"The File is Empty\")\n",
        "except ValueError:\n",
        "    print(\"The File Contains a string\")"
      ],
      "execution_count": 5,
      "outputs": [
        {
          "output_type": "stream",
          "text": [
            "291.55555555555554\n"
          ],
          "name": "stdout"
        }
      ]
    },
    {
      "cell_type": "code",
      "metadata": {
        "id": "3p0MENR_WrBV"
      },
      "source": [
        ""
      ],
      "execution_count": null,
      "outputs": []
    }
  ]
}